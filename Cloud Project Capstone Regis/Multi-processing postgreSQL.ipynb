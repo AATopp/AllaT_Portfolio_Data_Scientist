{
 "cells": [
  {
   "cell_type": "code",
   "execution_count": null,
   "metadata": {},
   "outputs": [],
   "source": [
    "# Alla Topp\n",
    "# Multi-processing with PostgreSQL \n",
    "# Applying multi-processing with each query by simulating 1,10,20,50,100 users as processes\n",
    "# to identify virtual machines` performance based on specifications like RAM, CPU and hard drive"
   ]
  },
  {
   "cell_type": "code",
   "execution_count": 1,
   "metadata": {},
   "outputs": [],
   "source": [
    "#!pip install psycopg2"
   ]
  },
  {
   "cell_type": "code",
   "execution_count": 2,
   "metadata": {},
   "outputs": [],
   "source": [
    "#!pip install pygresql"
   ]
  },
  {
   "cell_type": "code",
   "execution_count": 1,
   "metadata": {},
   "outputs": [],
   "source": [
    "import psycopg2\n",
    "import sqlalchemy\n",
    "import matplotlib as plt\n",
    "import concurrent.futures\n",
    "import multiprocessing"
   ]
  },
  {
   "cell_type": "code",
   "execution_count": 2,
   "metadata": {},
   "outputs": [],
   "source": [
    "# CONNECTING TO DATABASE yelpdb in postgreSQL\n",
    "#conn = psycopg2.connect(host = \"192.168.200.194\", port = \"5432\", user = \"postgres\", database = \"yelpdb\")"
   ]
  },
  {
   "cell_type": "code",
   "execution_count": 3,
   "metadata": {},
   "outputs": [],
   "source": [
    "def doCountQuery(query):    \n",
    "    conn = psycopg2.connect(host = \"192.168.200.194\", port = \"5432\", user = \"postgres\",\n",
    "                                                                    database = \"yelpdb\")\n",
    "    cur = conn.cursor()\n",
    "    cur.execute(query)\n",
    "    query_results = cur.fetchall()\n",
    "    \n",
    "#    print(query_results)\n",
    "    conn.close()"
   ]
  },
  {
   "cell_type": "code",
   "execution_count": 44,
   "metadata": {},
   "outputs": [],
   "source": [
    "#doCountQuery(\"\"\"SELECT COUNT(*) FROM review;\"\"\")"
   ]
  },
  {
   "cell_type": "code",
   "execution_count": 4,
   "metadata": {},
   "outputs": [],
   "source": [
    "# define function multi-processing \n",
    "\n",
    "def mLProcess(queries):\n",
    "    with multiprocessing.Pool() as pool:\n",
    "        pool.map(doCountQuery, queries)       "
   ]
  },
  {
   "cell_type": "code",
   "execution_count": 61,
   "metadata": {},
   "outputs": [],
   "source": [
    "# Q1.Count number of rows in largest table \"review\"\n",
    "queries = [\"\"\"SELECT COUNT(*) FROM review;\"\"\"]*20  #multiply by ammount of users (1, 10, 20, 50, 100)"
   ]
  },
  {
   "cell_type": "code",
   "execution_count": 62,
   "metadata": {
    "scrolled": true
   },
   "outputs": [
    {
     "name": "stdout",
     "output_type": "stream",
     "text": [
      "CPU times: user 109 ms, sys: 110 ms, total: 219 ms\n",
      "Wall time: 55 s\n"
     ]
    }
   ],
   "source": [
    "%%time\n",
    "mLProcess(queries)\n",
    "\n",
    "# 8GB RAM VM\n",
    "# Running each amount of processes 7 times to calculate the average result \n",
    "#1. 2.04s, 1.93s, 1.83s, 1.73s, 1.83s, 1.83s, 1.84s \n",
    "#10. 11.4s, 11s, 11.1, 11.2s, 11.3s, 11.2, 11.3s\n",
    "#20. 54.2s, 22.4s, 22.2s, 22.2s, 21.9s, 22.1s, 22.1s\n",
    "#50. 51.1s, 56.1s, 55.3s, 55.8s, 55.3, 55.9s, 55.5s \n",
    "#100. 1min 50s, 1min 50s, 1min 51s, 1min 52s, 1min 51s, 1min 53 s, 1min 53s"
   ]
  },
  {
   "cell_type": "code",
   "execution_count": 63,
   "metadata": {},
   "outputs": [],
   "source": [
    "#Q2. Select all distinc names in the user table\n",
    "distinct = [\"\"\"SELECT DISTINCT(user_name) FROM y_user;\"\"\"] * 20"
   ]
  },
  {
   "cell_type": "code",
   "execution_count": 70,
   "metadata": {},
   "outputs": [
    {
     "name": "stdout",
     "output_type": "stream",
     "text": [
      "CPU times: user 44.7 ms, sys: 90.1 ms, total: 135 ms\n",
      "Wall time: 7.37 s\n"
     ]
    }
   ],
   "source": [
    "%%time\n",
    "mLProcess(distinct)\n",
    "\n",
    "# of Users:\n",
    "#1. 1.64s, 1.63s, 1.73s, 1.73s, 1.73s, 1.64s, 1.63s\n",
    "#10. 11.3s, 4.04s, 4.24s, 3.84s, 3.84s, 3.84s, 3.85s\n",
    "#20. 7.37s, 7.37s, 7.07s, 6.97s, 7.26s, 7.38s, 6.96s\n",
    "#50. 18.3s, 18.7s, 18.5s, 18.6s, 17.9s, 17.3s, 18.3s\n",
    "#100. 37.1s, 37.5s, 36.7s, 36.6s, 36.5s, 36.9s, 37.1s"
   ]
  },
  {
   "cell_type": "code",
   "execution_count": 71,
   "metadata": {},
   "outputs": [],
   "source": [
    "#Q3. Count occurrence of each name in the user tabel\n",
    "occurrence = [\"\"\"SELECT user_name, COUNT(*) FROM y_user GROUP BY user_name;\"\"\"] * 20"
   ]
  },
  {
   "cell_type": "code",
   "execution_count": 78,
   "metadata": {},
   "outputs": [
    {
     "name": "stdout",
     "output_type": "stream",
     "text": [
      "CPU times: user 46.2 ms, sys: 92.4 ms, total: 139 ms\n",
      "Wall time: 10.1 s\n"
     ]
    }
   ],
   "source": [
    "%%time\n",
    "mLProcess(occurrence)\n",
    " \n",
    "#1. 1.23s, 1.23s, 1.25s, 1.23s, 1.23s, 1.33s, 1.23s\n",
    "#10. 5.16s, 5.04s, 5.05s, 5.15s, 4.95s, 5.25 s, 5.25s \n",
    "#20. 11.1s, 9.19s, 8.98s, 9.07s, 8.98s, 9.37s, 9.08s\n",
    "#50. 23.1s, 22.7s, 22.8s, 23.2s, 23s, 22.2s, 22.9s\n",
    "#100. 48.8s, 45.2s, 45.1, 45.1s, 45.3, 45.3s, 45s"
   ]
  },
  {
   "cell_type": "code",
   "execution_count": 22,
   "metadata": {},
   "outputs": [],
   "source": [
    "#Q4. Count number of reviews by each user \n",
    "num_reviews = [\"\"\"SELECT y_user.user_name, COUNT(review.text) \n",
    "                AS Number FROM y_user INNER JOIN review ON \n",
    "                y_user.user_id = review.user_id GROUP BY y_user.user_name LIMIT 100;\"\"\"] * 1"
   ]
  },
  {
   "cell_type": "code",
   "execution_count": 23,
   "metadata": {},
   "outputs": [
    {
     "name": "stdout",
     "output_type": "stream",
     "text": [
      "CPU times: user 620 ms, sys: 359 ms, total: 979 ms\n",
      "Wall time: 8min\n"
     ]
    }
   ],
   "source": [
    "%%time\n",
    "mLProcess(num_reviews)\n",
    "\n",
    "# 8GB RAM VM\n",
    "#1. 4min 9s, 3min 52s, 3min 32s, 4min 41s, 3min 50s, 4min 32s, 4min 44s.\n",
    "#3. 24min 47s, 29min 35s, 28min 25s, 28min 20s, 27min 59s, 29min 53s, 27min 59s\n",
    "#5. 1hr 20s, 1hr 1min 49s, 1h 49s, 52min 56s, 1hr 2min 10s, 1hr 37s, 1h 3s"
   ]
  },
  {
   "cell_type": "code",
   "execution_count": 24,
   "metadata": {},
   "outputs": [],
   "source": [
    "#Q5.Multiple joins including all the tables\n",
    "mul_joins = [\"\"\"SELECT y_user.user_name, review.stars, tip.text, business.name\n",
    "               FROM y_user FULL OUTER JOIN review ON y_user.user_id = review.user_id\n",
    "               FULL OUTER JOIN tip ON review.user_id = tip.user_id\n",
    "               FULL OUTER JOIN business ON tip.business_id = business.business_id;\"\"\"]"
   ]
  },
  {
   "cell_type": "code",
   "execution_count": 25,
   "metadata": {},
   "outputs": [
    {
     "name": "stdout",
     "output_type": "stream",
     "text": [
      "CPU times: user 3.51 s, sys: 1.94 s, total: 5.45 s\n",
      "Wall time: 48min 43s\n"
     ]
    }
   ],
   "source": [
    "%%time\n",
    "mLProcess(mul_joins)\n",
    "\n",
    "#8GB RAM\n",
    "#1. 40min 12s, 37 min 40s, 37min 11s, 38min 50s, 36 min 28s, 37min 16s, 36min 47s"
   ]
  },
  {
   "cell_type": "code",
   "execution_count": null,
   "metadata": {},
   "outputs": [],
   "source": [
    "#References:\n",
    "#https://www.postgresqltutorial.com/postgresql-python/query/\n",
    "#https://gist.github.com/mangecoeur/9540178"
   ]
  }
 ],
 "metadata": {
  "kernelspec": {
   "display_name": "Python 3",
   "language": "python",
   "name": "python3"
  },
  "language_info": {
   "codemirror_mode": {
    "name": "ipython",
    "version": 3
   },
   "file_extension": ".py",
   "mimetype": "text/x-python",
   "name": "python",
   "nbconvert_exporter": "python",
   "pygments_lexer": "ipython3",
   "version": "3.6.8"
  },
  "varInspector": {
   "cols": {
    "lenName": 16,
    "lenType": 16,
    "lenVar": 40
   },
   "kernels_config": {
    "python": {
     "delete_cmd_postfix": "",
     "delete_cmd_prefix": "del ",
     "library": "var_list.py",
     "varRefreshCmd": "print(var_dic_list())"
    },
    "r": {
     "delete_cmd_postfix": ") ",
     "delete_cmd_prefix": "rm(",
     "library": "var_list.r",
     "varRefreshCmd": "cat(var_dic_list()) "
    }
   },
   "types_to_exclude": [
    "module",
    "function",
    "builtin_function_or_method",
    "instance",
    "_Feature"
   ],
   "window_display": false
  }
 },
 "nbformat": 4,
 "nbformat_minor": 2
}
