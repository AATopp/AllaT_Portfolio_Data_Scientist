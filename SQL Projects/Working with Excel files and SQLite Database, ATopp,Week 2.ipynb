{
 "cells": [
  {
   "cell_type": "markdown",
   "metadata": {},
   "source": [
    "## <center>Working with Excel files and SQLite Database</center>\n",
    "\n",
    "## Part 1\n",
    "\n",
    "We need to read the nine stock files and insert their data into the database. "
   ]
  },
  {
   "cell_type": "markdown",
   "metadata": {},
   "source": [
    "The file names all start with a year, from 2009 straight to 2019 with no breaks:\n",
    "\n",
    "```\n",
    "2009_aapl_data.xlsx\n",
    "2010_aapl_data.xlsx\n",
    "2011_aapl_data.xlsx\n",
    "2012_aapl_data.xlsx\n",
    "2013_aapl_data.xlsx\n",
    "2014_aapl_data.xlsx\n",
    "2015_aapl_data.xlsx\n",
    "2016_aapl_data.xlsx\n",
    "2017_aapl_data.xlsx\n",
    "2018_aapl_data.xlsx\n",
    "2019_aapl_data.xlsx\n",
    "```"
   ]
  },
  {
   "cell_type": "code",
   "execution_count": 54,
   "metadata": {},
   "outputs": [],
   "source": [
    "import dataset\n",
    "from openpyxl import load_workbook"
   ]
  },
  {
   "cell_type": "code",
   "execution_count": 55,
   "metadata": {},
   "outputs": [],
   "source": [
    "input_name = '_aapl_data.xlsx'\n",
    "db_file = 'stock_prices.db'"
   ]
  },
  {
   "cell_type": "code",
   "execution_count": 56,
   "metadata": {},
   "outputs": [],
   "source": [
    "db = dataset.connect(\"sqlite:///\" + db_file)"
   ]
  },
  {
   "cell_type": "code",
   "execution_count": 57,
   "metadata": {},
   "outputs": [
    {
     "data": {
      "text/plain": [
       "['aapl']"
      ]
     },
     "execution_count": 57,
     "metadata": {},
     "output_type": "execute_result"
    }
   ],
   "source": [
    "db.tables"
   ]
  },
  {
   "cell_type": "code",
   "execution_count": 58,
   "metadata": {},
   "outputs": [],
   "source": [
    "if (len(db.tables) > 0):\n",
    "    for table in db.tables:\n",
    "        db[table].drop()"
   ]
  },
  {
   "cell_type": "code",
   "execution_count": 59,
   "metadata": {},
   "outputs": [],
   "source": [
    "table = db.create_table(\"aapl\")"
   ]
  },
  {
   "cell_type": "code",
   "execution_count": 60,
   "metadata": {},
   "outputs": [
    {
     "data": {
      "text/plain": [
       "['aapl']"
      ]
     },
     "execution_count": 60,
     "metadata": {},
     "output_type": "execute_result"
    }
   ],
   "source": [
    "db.tables"
   ]
  },
  {
   "cell_type": "code",
   "execution_count": 61,
   "metadata": {},
   "outputs": [
    {
     "data": {
      "text/plain": [
       "'date'"
      ]
     },
     "execution_count": 61,
     "metadata": {},
     "output_type": "execute_result"
    }
   ],
   "source": [
    "header = sheet[1]\n",
    "header[0].value     # This is just to sanity-check that we got the header"
   ]
  },
  {
   "cell_type": "code",
   "execution_count": 62,
   "metadata": {},
   "outputs": [],
   "source": [
    "def isfloat(value):\n",
    "  try:\n",
    "    float(value)\n",
    "    return True\n",
    "  except ValueError:\n",
    "    return False\n",
    "\n",
    "def get_type(value):\n",
    "    if value.isdigit():\n",
    "        return dataset.types.Integer\n",
    "    elif isfloat(value):\n",
    "        return dataset.types.Float\n",
    "    elif '/' in value:\n",
    "        return dataset.types.Date\n",
    "    else:\n",
    "        return dataset.types.Unicode"
   ]
  },
  {
   "cell_type": "code",
   "execution_count": 63,
   "metadata": {},
   "outputs": [
    {
     "name": "stdout",
     "output_type": "stream",
     "text": [
      "2019/09/04 is <class 'sqlalchemy.sql.sqltypes.Date'>\n",
      "209.1900 is <class 'sqlalchemy.sql.sqltypes.Float'>\n",
      "19216820.0000 is <class 'sqlalchemy.sql.sqltypes.Float'>\n",
      "208.3900 is <class 'sqlalchemy.sql.sqltypes.Float'>\n",
      "209.4800 is <class 'sqlalchemy.sql.sqltypes.Float'>\n",
      "207.3200 is <class 'sqlalchemy.sql.sqltypes.Float'>\n"
     ]
    }
   ],
   "source": [
    "row2 = sheet[2]\n",
    "\n",
    "for cell in row2:\n",
    "    print(f'{cell.value} is {get_type(cell.value)}')"
   ]
  },
  {
   "cell_type": "code",
   "execution_count": 64,
   "metadata": {},
   "outputs": [
    {
     "data": {
      "text/plain": [
       "['id', 'date', 'close', 'volume', 'open', 'high', 'low']"
      ]
     },
     "execution_count": 64,
     "metadata": {},
     "output_type": "execute_result"
    }
   ],
   "source": [
    "for index, col_name in enumerate(header):\n",
    "    table.create_column(col_name.value, get_type(row2[index].value))\n",
    "db['aapl'].columns"
   ]
  },
  {
   "cell_type": "code",
   "execution_count": 65,
   "metadata": {},
   "outputs": [
    {
     "name": "stdout",
     "output_type": "stream",
     "text": [
      "2009\n",
      "2010\n",
      "2011\n",
      "2012\n",
      "2013\n",
      "2014\n",
      "2015\n",
      "2016\n",
      "2017\n",
      "2018\n",
      "2019\n"
     ]
    }
   ],
   "source": [
    "from datetime import datetime,date\n",
    "keys = table.columns[1:]\n",
    "\n",
    "for i in range(2009, 2020):\n",
    "    data_file = \"data/\" + str(i) + input_name\n",
    "    workbook = load_workbook(filename=data_file)\n",
    "    sheet = workbook.active\n",
    "    print(i)\n",
    "    \n",
    "    for values in list(sheet.values)[1:]:\n",
    "        row = []\n",
    "        row.append(datetime.strptime(values[0],'%Y/%m/%d').date())\n",
    "        row = row + list(values[1:])\n",
    "        d_row = dict(zip(keys,row))\n",
    "        table.insert(d_row)\n"
   ]
  },
  {
   "cell_type": "code",
   "execution_count": 66,
   "metadata": {},
   "outputs": [
    {
     "name": "stdout",
     "output_type": "stream",
     "text": [
      "Rows in database: 2516\n"
     ]
    }
   ],
   "source": [
    "# count rows in the table\n",
    "print(f'Rows in database: {len(table)}')"
   ]
  },
  {
   "cell_type": "markdown",
   "metadata": {},
   "source": [
    "## Part 2\n",
    "\n",
    "Now that I have a working database with a reasonable amount of data in it, I am going to do some queries with it and show the data:\n",
    "\n",
    "1. Find all days where the stock closed lower than 25. \n",
    "    * Print a count of how many\n",
    "    * Print the first 5 rows found\n",
    "2. Find all days in 2017 where the stock closed above 35.\n",
    "    * Print a count of how many\n",
    "    * Print the last 5 found.\n",
    "3. Create a new workbook and put each query result on a new worksheet in the workbook. \n"
   ]
  },
  {
   "cell_type": "code",
   "execution_count": 67,
   "metadata": {},
   "outputs": [],
   "source": [
    "def print_rows():\n",
    "    for row in sheet.iter_rows(values_only=True):\n",
    "        print(row)"
   ]
  },
  {
   "cell_type": "code",
   "execution_count": 68,
   "metadata": {},
   "outputs": [],
   "source": [
    "from openpyxl import Workbook\n",
    "from openpyxl.chart import BarChart, Reference"
   ]
  },
  {
   "cell_type": "code",
   "execution_count": 69,
   "metadata": {},
   "outputs": [
    {
     "name": "stdout",
     "output_type": "stream",
     "text": [
      "['aapl']\n"
     ]
    }
   ],
   "source": [
    "import dataset\n",
    "db = dataset.connect(\"sqlite:///stock_prices.db\")\n",
    "print(db.tables)"
   ]
  },
  {
   "cell_type": "code",
   "execution_count": 70,
   "metadata": {},
   "outputs": [
    {
     "name": "stdout",
     "output_type": "stream",
     "text": [
      "OrderedDict([('id', 1), ('date', datetime.date(2009, 12, 31)), ('close', 30.1046), ('volume', 87907426.0), ('open', 30.4471), ('high', 30.4786), ('low', 30.08)])\n",
      "OrderedDict([('id', 2), ('date', datetime.date(2009, 12, 30)), ('close', 30.2343), ('volume', 102705781.0), ('open', 29.8328), ('high', 30.2857), ('low', 29.7586)])\n",
      "OrderedDict([('id', 3), ('date', datetime.date(2009, 12, 29)), ('close', 29.8714), ('volume', 110755363.0), ('open', 30.3757), ('high', 30.3886), ('low', 29.8186)])\n",
      "OrderedDict([('id', 4), ('date', datetime.date(2009, 12, 28)), ('close', 30.23), ('volume', 160784168.0), ('open', 30.2457), ('high', 30.5643), ('low', 29.9444)])\n",
      "OrderedDict([('id', 5), ('date', datetime.date(2009, 12, 24)), ('close', 29.8628), ('volume', 125222058.0), ('open', 29.0786), ('high', 29.9071), ('low', 29.05)])\n"
     ]
    }
   ],
   "source": [
    "for i, row in enumerate(db['aapl']):\n",
    "    if i < 5:\n",
    "        print(row)"
   ]
  },
  {
   "cell_type": "code",
   "execution_count": 71,
   "metadata": {},
   "outputs": [
    {
     "name": "stdout",
     "output_type": "stream",
     "text": [
      "[77, datetime.date(2009, 9, 14), 24.8171, 80383404.0, 24.4043, 24.8428, 24.3214]\n",
      "[78, datetime.date(2009, 9, 11), 24.5943, 87108026.0, 24.7014, 24.74, 24.41]\n",
      "[79, datetime.date(2009, 9, 10), 24.6514, 122612107.0, 24.58, 24.75, 24.4014]\n",
      "[80, datetime.date(2009, 9, 9), 24.4486, 202624511.0, 24.6828, 24.9243, 24.2428]\n",
      "[81, datetime.date(2009, 9, 8), 24.7043, 78524974.0, 24.7114, 24.7343, 24.5714]\n",
      "[82, datetime.date(2009, 9, 4), 24.33, 93309888.0, 23.8966, 24.3857, 23.87]\n"
     ]
    }
   ],
   "source": [
    "# Showing the stock closed lower than 25 which is 6 days in 2009\n",
    "high_close = db['aapl'].find(close = {'<=': 25})\n",
    "for row in high_close:\n",
    "    vals = [v for k, v in row.items()]\n",
    "    print(vals)"
   ]
  },
  {
   "cell_type": "code",
   "execution_count": 72,
   "metadata": {
    "scrolled": false
   },
   "outputs": [
    {
     "data": {
      "text/plain": [
       "[[datetime.date(2009, 9, 14), 24.8171, 80383404.0, 24.4043, 24.8428, 24.3214],\n",
       " [datetime.date(2009, 9, 11), 24.5943, 87108026.0, 24.7014, 24.74, 24.41],\n",
       " [datetime.date(2009, 9, 10), 24.6514, 122612107.0, 24.58, 24.75, 24.4014],\n",
       " [datetime.date(2009, 9, 9), 24.4486, 202624511.0, 24.6828, 24.9243, 24.2428],\n",
       " [datetime.date(2009, 9, 8), 24.7043, 78524974.0, 24.7114, 24.7343, 24.5714]]"
      ]
     },
     "execution_count": 72,
     "metadata": {},
     "output_type": "execute_result"
    }
   ],
   "source": [
    "# Find all days where the stock closed lower than 25.\n",
    "\n",
    "high_close = db['aapl'].find(close = {'<=': 25})\n",
    "excel_rows = [] \n",
    "\n",
    "for row in high_close:\n",
    "    vals = [v for k, v in row.items()]\n",
    "    excel_rows.append(vals[1:])\n",
    "    \n",
    "# Print the first 5 rows found\n",
    "excel_rows[:5]"
   ]
  },
  {
   "cell_type": "code",
   "execution_count": 73,
   "metadata": {},
   "outputs": [
    {
     "data": {
      "text/plain": [
       "6"
      ]
     },
     "execution_count": 73,
     "metadata": {},
     "output_type": "execute_result"
    }
   ],
   "source": [
    "# Print a count of how many days where the stock closed lower than 25. Output:6\n",
    "len(excel_rows)"
   ]
  },
  {
   "cell_type": "code",
   "execution_count": 74,
   "metadata": {},
   "outputs": [
    {
     "data": {
      "text/plain": [
       "[[datetime.date(2017, 1, 9), 118.99, 33420290.0, 117.95, 119.43, 117.94],\n",
       " [datetime.date(2017, 1, 6), 117.91, 31714820.0, 116.78, 118.16, 116.47],\n",
       " [datetime.date(2017, 1, 5), 116.61, 22115100.0, 115.92, 116.8642, 115.81],\n",
       " [datetime.date(2017, 1, 4), 116.02, 21081620.0, 115.85, 116.51, 115.75],\n",
       " [datetime.date(2017, 1, 3), 116.15, 28769220.0, 115.8, 116.33, 114.76]]"
      ]
     },
     "execution_count": 74,
     "metadata": {},
     "output_type": "execute_result"
    }
   ],
   "source": [
    "#Find all days in 2017 where the stock closed above 35.\n",
    "\n",
    "high_close = db['aapl'].find(close = {'>=': 35}, date = {'between': ['2017-01-01', '2017-12-31']})\n",
    "excel_rows = [] \n",
    "\n",
    "for row in high_close:\n",
    "    vals = [v for k, v in row.items()]\n",
    "    excel_rows.append(vals[1:])\n",
    "    \n",
    "#Print the last 5 found. \n",
    "excel_rows[-5:]"
   ]
  },
  {
   "cell_type": "code",
   "execution_count": 75,
   "metadata": {},
   "outputs": [
    {
     "data": {
      "text/plain": [
       "251"
      ]
     },
     "execution_count": 75,
     "metadata": {},
     "output_type": "execute_result"
    }
   ],
   "source": [
    "#Print a count of how many days where the stock closed above 35. Output:251\n",
    "len(excel_rows)"
   ]
  },
  {
   "cell_type": "code",
   "execution_count": 76,
   "metadata": {},
   "outputs": [],
   "source": [
    "#create workbook and save the file \n",
    "workbook = Workbook() # Create a new workbook\n",
    "sheet = workbook.active # Get the active worksheet\n",
    "\n",
    "header = db['aapl'].columns[1:]\n",
    "\n",
    "# converting to string\n",
    "header = [str(v) for v in header]\n",
    "sheet.append(header)\n",
    "for row in excel_rows:\n",
    "    sheet.append(row)"
   ]
  },
  {
   "cell_type": "code",
   "execution_count": 78,
   "metadata": {},
   "outputs": [],
   "source": [
    "#saving the workbook\n",
    "fname = \"workbook_queries.xlsx\"\n",
    "workbook.save(filename=fname)"
   ]
  }
 ],
 "metadata": {
  "kernelspec": {
   "display_name": "Python 3",
   "language": "python",
   "name": "python3"
  },
  "language_info": {
   "codemirror_mode": {
    "name": "ipython",
    "version": 3
   },
   "file_extension": ".py",
   "mimetype": "text/x-python",
   "name": "python",
   "nbconvert_exporter": "python",
   "pygments_lexer": "ipython3",
   "version": "3.7.4"
  },
  "varInspector": {
   "cols": {
    "lenName": 16,
    "lenType": 16,
    "lenVar": 40
   },
   "kernels_config": {
    "python": {
     "delete_cmd_postfix": "",
     "delete_cmd_prefix": "del ",
     "library": "var_list.py",
     "varRefreshCmd": "print(var_dic_list())"
    },
    "r": {
     "delete_cmd_postfix": ") ",
     "delete_cmd_prefix": "rm(",
     "library": "var_list.r",
     "varRefreshCmd": "cat(var_dic_list()) "
    }
   },
   "types_to_exclude": [
    "module",
    "function",
    "builtin_function_or_method",
    "instance",
    "_Feature"
   ],
   "window_display": false
  }
 },
 "nbformat": 4,
 "nbformat_minor": 2
}
